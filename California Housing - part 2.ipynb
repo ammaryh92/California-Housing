{
 "cells": [
  {
   "cell_type": "markdown",
   "id": "b8c5238c",
   "metadata": {},
   "source": [
    "# Install Packages"
   ]
  },
  {
   "cell_type": "code",
   "execution_count": 1,
   "id": "1b0d6fe2",
   "metadata": {},
   "outputs": [],
   "source": [
    "import pandas as pd\n",
    "import numpy as np\n",
    "import matplotlib.pyplot as plt\n",
    "import matplotlib.image as mpimg\n",
    "import seaborn as sb\n",
    "import requests\n",
    "import os\n",
    "import csv\n",
    "import tarfile\n",
    "import tensorflow as tf\n",
    "from tensorflow import keras\n",
    "import joblib\n",
    "%matplotlib inline"
   ]
  },
  {
   "cell_type": "code",
   "execution_count": 2,
   "id": "c23524bb",
   "metadata": {},
   "outputs": [],
   "source": [
    "from sklearn.preprocessing import StandardScaler, OneHotEncoder, QuantileTransformer, PolynomialFeatures\n",
    "from sklearn.model_selection import StratifiedShuffleSplit, cross_val_score, GridSearchCV, RandomizedSearchCV\n",
    "from sklearn.impute import SimpleImputer\n",
    "from sklearn.base import BaseEstimator, TransformerMixin\n",
    "from sklearn.pipeline import Pipeline\n",
    "from sklearn.compose import ColumnTransformer\n",
    "from sklearn.ensemble import RandomForestRegressor\n",
    "from sklearn.metrics import mean_squared_error"
   ]
  },
  {
   "cell_type": "markdown",
   "id": "fdab812a",
   "metadata": {},
   "source": [
    "# Get the Data"
   ]
  },
  {
   "cell_type": "code",
   "execution_count": 4,
   "id": "98e364bd",
   "metadata": {},
   "outputs": [],
   "source": [
    "def load_housing_data(housing_path = HOUSING_PATH):\n",
    "    csv_path = os.path.join(housing_path, 'housing.csv')\n",
    "    return pd.read_csv(csv_path)"
   ]
  },
  {
   "cell_type": "code",
   "execution_count": 5,
   "id": "2aac52d2",
   "metadata": {},
   "outputs": [],
   "source": [
    "housing = load_housing_data()"
   ]
  },
  {
   "cell_type": "markdown",
   "id": "d0ecc8cb",
   "metadata": {},
   "source": [
    "# Create a Test Set"
   ]
  },
  {
   "cell_type": "code",
   "execution_count": 6,
   "id": "180cbb32",
   "metadata": {},
   "outputs": [],
   "source": [
    "housing['income_cat'] = pd.cut(housing['median_income'], bins = [0, 1.5, 3, 4.5, 6, np.inf], labels = [1,2,3,4,5])"
   ]
  },
  {
   "cell_type": "code",
   "execution_count": 7,
   "id": "b3dd7f28",
   "metadata": {},
   "outputs": [],
   "source": [
    "sss= StratifiedShuffleSplit(n_splits = 1, test_size = 0.2, random_state = 42)\n",
    "for train_index, test_index in sss.split(housing, housing['income_cat']):\n",
    "    strat_train_set = housing.loc[train_index]\n",
    "    strat_test_set = housing.loc[test_index]"
   ]
  },
  {
   "cell_type": "code",
   "execution_count": 8,
   "id": "b261e144",
   "metadata": {},
   "outputs": [
    {
     "data": {
      "text/plain": [
       "1    0.039850\n",
       "2    0.318859\n",
       "3    0.350594\n",
       "4    0.176296\n",
       "5    0.114402\n",
       "Name: income_cat, dtype: float64"
      ]
     },
     "execution_count": 8,
     "metadata": {},
     "output_type": "execute_result"
    }
   ],
   "source": [
    "(strat_train_set['income_cat'].value_counts() / len(strat_train_set)).sort_index()"
   ]
  },
  {
   "cell_type": "code",
   "execution_count": 9,
   "id": "1f43bd81",
   "metadata": {},
   "outputs": [
    {
     "data": {
      "text/plain": [
       "1    0.039729\n",
       "2    0.318798\n",
       "3    0.350533\n",
       "4    0.176357\n",
       "5    0.114583\n",
       "Name: income_cat, dtype: float64"
      ]
     },
     "execution_count": 9,
     "metadata": {},
     "output_type": "execute_result"
    }
   ],
   "source": [
    "(strat_test_set['income_cat'].value_counts() / len(strat_test_set)).sort_index()"
   ]
  },
  {
   "cell_type": "code",
   "execution_count": 10,
   "id": "4e69c605",
   "metadata": {},
   "outputs": [],
   "source": [
    "for set_ in (strat_train_set, strat_test_set):\n",
    "    set_.drop('income_cat', axis =1, inplace = True)"
   ]
  },
  {
   "cell_type": "code",
   "execution_count": 11,
   "id": "a517b230",
   "metadata": {},
   "outputs": [],
   "source": [
    "#Separate the predictors and labels\n",
    "housing = strat_train_set.drop('median_house_value', axis = 1)\n",
    "housing_labels = strat_train_set['median_house_value'].copy()"
   ]
  },
  {
   "cell_type": "code",
   "execution_count": 12,
   "id": "b215d3e7",
   "metadata": {},
   "outputs": [],
   "source": [
    "housing_num = housing.drop('ocean_proximity', axis = 1)\n",
    "housing_cat = housing[['ocean_proximity']]"
   ]
  },
  {
   "cell_type": "markdown",
   "id": "efd0f1ab",
   "metadata": {},
   "source": [
    "# Preparing the Data for Machine Learning"
   ]
  },
  {
   "cell_type": "code",
   "execution_count": 13,
   "id": "dd31d0e8",
   "metadata": {},
   "outputs": [],
   "source": [
    "col_names = ['total_rooms', 'total_bedrooms', 'population', 'households', 'median_income']\n",
    "rooms_ix, bedrooms_ix, population_ix, households_ix, income_ix = [housing.columns.get_loc(c) for c in col_names]"
   ]
  },
  {
   "cell_type": "code",
   "execution_count": 14,
   "id": "9602c822",
   "metadata": {},
   "outputs": [],
   "source": [
    "class CombinedAttributesAdder(BaseEstimator, TransformerMixin):\n",
    "    def __init__(self, add_bedrooms_per_room = True):\n",
    "        self.add_bedrooms_per_room = add_bedrooms_per_room\n",
    "    \n",
    "    def fit(self, X, y = None):\n",
    "        return self\n",
    "    \n",
    "    def transform(self, X):\n",
    "        rooms_per_household = X[:, rooms_ix] / X[:, households_ix]\n",
    "        population_per_household = X[:, population_ix] / X[:, households_ix]\n",
    "        if self.add_bedrooms_per_room:\n",
    "            bedrooms_per_room = X[:, bedrooms_ix] / X[:, rooms_ix]\n",
    "            return np.c_[X, rooms_per_household, population_per_household, bedrooms_per_room]\n",
    "        else:\n",
    "            return np.c_[X, rooms_per_household, population_per_household]"
   ]
  },
  {
   "cell_type": "code",
   "execution_count": 15,
   "id": "9e918349",
   "metadata": {},
   "outputs": [],
   "source": [
    "def display_scores(scores):\n",
    "    scores = [float('{:0.2f}'.format(v)) for v in scores]\n",
    "    print('Scores: ', scores)\n",
    "    print('Mean: ', np.mean(scores))\n",
    "    print('Standard Deviation: ', np.std(scores))"
   ]
  },
  {
   "cell_type": "markdown",
   "id": "8c929f0e",
   "metadata": {},
   "source": [
    "# Model 1"
   ]
  },
  {
   "cell_type": "code",
   "execution_count": 16,
   "id": "9c461b95",
   "metadata": {},
   "outputs": [],
   "source": [
    "housing_m1 = housing.copy()"
   ]
  },
  {
   "cell_type": "code",
   "execution_count": 17,
   "id": "91f044b6",
   "metadata": {},
   "outputs": [],
   "source": [
    "housing_m1['inland'] = (housing_m1['ocean_proximity'] == 'INLAND').astype(int)"
   ]
  },
  {
   "cell_type": "code",
   "execution_count": 18,
   "id": "357daebf",
   "metadata": {},
   "outputs": [],
   "source": [
    "housing_m1.drop('ocean_proximity', axis = 1, inplace = True)"
   ]
  },
  {
   "cell_type": "code",
   "execution_count": 26,
   "id": "e3867f1b",
   "metadata": {},
   "outputs": [],
   "source": [
    "num_pipeline_m1 = Pipeline([\n",
    "    ('imputer', SimpleImputer(strategy = 'median')),\n",
    "    ('attribs_adder', CombinedAttributesAdder()),\n",
    "    ('std_scaler', StandardScaler()),\n",
    "])"
   ]
  },
  {
   "cell_type": "code",
   "execution_count": 27,
   "id": "d8e5d1e9",
   "metadata": {},
   "outputs": [],
   "source": [
    "housing_prepared_m1 = num_pipeline_m1.fit_transform(housing_m1)"
   ]
  },
  {
   "cell_type": "code",
   "execution_count": 28,
   "id": "c3aa15fa",
   "metadata": {},
   "outputs": [
    {
     "data": {
      "text/plain": [
       "RandomForestRegressor(random_state=42)"
      ]
     },
     "execution_count": 28,
     "metadata": {},
     "output_type": "execute_result"
    }
   ],
   "source": [
    "forest_reg_m1 = RandomForestRegressor(n_estimators = 100, random_state = 42)\n",
    "forest_reg_m1.fit(housing_prepared_m1, housing_labels)"
   ]
  },
  {
   "cell_type": "code",
   "execution_count": 29,
   "id": "77cbc142",
   "metadata": {},
   "outputs": [
    {
     "data": {
      "text/plain": [
       "18663.227306974266"
      ]
     },
     "execution_count": 29,
     "metadata": {},
     "output_type": "execute_result"
    }
   ],
   "source": [
    "housing_predictions_m1 = forest_reg_m1.predict(housing_prepared_m1)\n",
    "forest_rmse_m1 = mean_squared_error(housing_labels, housing_predictions_m1, squared = False)\n",
    "forest_rmse_m1"
   ]
  },
  {
   "cell_type": "code",
   "execution_count": 30,
   "id": "b5d44333",
   "metadata": {},
   "outputs": [
    {
     "data": {
      "text/plain": [
       "array([49769.30165401, 47716.69111426, 49933.3830373 , 52227.98155561,\n",
       "       49417.9300074 , 53681.54181692, 48537.09302853, 47891.85350849,\n",
       "       53452.40606155, 50233.53875565])"
      ]
     },
     "execution_count": 30,
     "metadata": {},
     "output_type": "execute_result"
    }
   ],
   "source": [
    "#cross validation\n",
    "forest_scores_m1 = cross_val_score(forest_reg_m1, housing_prepared_m1, housing_labels, scoring = 'neg_mean_squared_error', \n",
    "                            cv = 10)\n",
    "forest_rmse_scores_m1 = np.sqrt(-forest_scores_m1)\n",
    "forest_rmse_scores_m1"
   ]
  },
  {
   "cell_type": "code",
   "execution_count": 31,
   "id": "b10952ad",
   "metadata": {
    "scrolled": true
   },
   "outputs": [
    {
     "name": "stdout",
     "output_type": "stream",
     "text": [
      "Scores:  [49769.3, 47716.69, 49933.38, 52227.98, 49417.93, 53681.54, 48537.09, 47891.85, 53452.41, 50233.54]\n",
      "Mean:  50286.171\n",
      "Standard Deviation:  2046.1364036957568\n"
     ]
    }
   ],
   "source": [
    "display_scores(forest_rmse_scores_m1)"
   ]
  },
  {
   "cell_type": "code",
   "execution_count": 44,
   "id": "086df684",
   "metadata": {},
   "outputs": [
    {
     "data": {
      "text/plain": [
       "GridSearchCV(cv=5, estimator=RandomForestRegressor(random_state=42),\n",
       "             param_grid=[{'max_features': [8, 10, 11],\n",
       "                          'n_estimators': [50, 70, 100]},\n",
       "                         {'bootstrap': [False], 'max_features': [8, 10, 11],\n",
       "                          'n_estimators': [30, 40]}],\n",
       "             return_train_score=True, scoring='neg_mean_squared_error')"
      ]
     },
     "execution_count": 44,
     "metadata": {},
     "output_type": "execute_result"
    }
   ],
   "source": [
    "param_grid = [\n",
    "    {'n_estimators':[50, 70, 100], 'max_features':[8, 10,11]},\n",
    "    {'bootstrap':[False], 'n_estimators':[30,40], 'max_features':[8,10,11]}\n",
    "]\n",
    "\n",
    "forest_reg = RandomForestRegressor(random_state = 42)\n",
    "\n",
    "grid_search = GridSearchCV(estimator = forest_reg_m1, param_grid = param_grid, cv = 5, scoring = 'neg_mean_squared_error',\n",
    "                           return_train_score = True)\n",
    "\n",
    "grid_search.fit(housing_prepared_m1, housing_labels)"
   ]
  },
  {
   "cell_type": "code",
   "execution_count": 45,
   "id": "fcf805c1",
   "metadata": {},
   "outputs": [
    {
     "data": {
      "text/plain": [
       "RandomForestRegressor(max_features=8, random_state=42)"
      ]
     },
     "execution_count": 45,
     "metadata": {},
     "output_type": "execute_result"
    }
   ],
   "source": [
    "grid_search.best_estimator_"
   ]
  },
  {
   "cell_type": "code",
   "execution_count": 46,
   "id": "c1df26f4",
   "metadata": {},
   "outputs": [
    {
     "data": {
      "text/plain": [
       "{'max_features': 8, 'n_estimators': 100}"
      ]
     },
     "execution_count": 46,
     "metadata": {},
     "output_type": "execute_result"
    }
   ],
   "source": [
    "grid_search.best_params_"
   ]
  },
  {
   "cell_type": "code",
   "execution_count": 47,
   "id": "98c9cc28",
   "metadata": {},
   "outputs": [
    {
     "name": "stdout",
     "output_type": "stream",
     "text": [
      "49972.28155920334 {'max_features': 8, 'n_estimators': 50}\n",
      "49865.75564632418 {'max_features': 8, 'n_estimators': 70}\n",
      "49774.159915810116 {'max_features': 8, 'n_estimators': 100}\n",
      "50285.44791388631 {'max_features': 10, 'n_estimators': 50}\n",
      "50078.836185158965 {'max_features': 10, 'n_estimators': 70}\n",
      "49957.08308440036 {'max_features': 10, 'n_estimators': 100}\n",
      "50625.090510511014 {'max_features': 11, 'n_estimators': 50}\n",
      "50435.89005860777 {'max_features': 11, 'n_estimators': 70}\n",
      "50361.82383676503 {'max_features': 11, 'n_estimators': 100}\n",
      "50262.883998496836 {'bootstrap': False, 'max_features': 8, 'n_estimators': 30}\n",
      "50242.23110838541 {'bootstrap': False, 'max_features': 8, 'n_estimators': 40}\n",
      "52515.56760061423 {'bootstrap': False, 'max_features': 10, 'n_estimators': 30}\n",
      "52400.78056783633 {'bootstrap': False, 'max_features': 10, 'n_estimators': 40}\n",
      "57643.66590811575 {'bootstrap': False, 'max_features': 11, 'n_estimators': 30}\n",
      "56708.21180500156 {'bootstrap': False, 'max_features': 11, 'n_estimators': 40}\n"
     ]
    }
   ],
   "source": [
    "cvres = grid_search.cv_results_\n",
    "for mean_score, params in zip(cvres['mean_test_score'], cvres['params']):\n",
    "    print(np.sqrt(-mean_score), params)"
   ]
  },
  {
   "cell_type": "code",
   "execution_count": 48,
   "id": "ee53cad7",
   "metadata": {},
   "outputs": [],
   "source": [
    "m1 = grid_search.best_estimator_"
   ]
  },
  {
   "cell_type": "code",
   "execution_count": 86,
   "id": "ee100afd",
   "metadata": {},
   "outputs": [
    {
     "data": {
      "text/plain": [
       "array([49027.80904186, 46759.51741062, 49398.12481633, 51503.93007782,\n",
       "       48594.10227291, 52887.14890295, 48398.49552373, 47065.87724938,\n",
       "       52522.27008632, 49089.00717728])"
      ]
     },
     "execution_count": 86,
     "metadata": {},
     "output_type": "execute_result"
    }
   ],
   "source": [
    "m1_scores = cross_val_score(m1, housing_prepared_m1, housing_labels, scoring = 'neg_mean_squared_error', \n",
    "                            cv = 10)\n",
    "m1_rmse_scores = np.sqrt(-m1_scores)\n",
    "m1_rmse_scores"
   ]
  },
  {
   "cell_type": "code",
   "execution_count": 87,
   "id": "62765914",
   "metadata": {},
   "outputs": [
    {
     "name": "stdout",
     "output_type": "stream",
     "text": [
      "Scores:  [49027.81, 46759.52, 49398.12, 51503.93, 48594.1, 52887.15, 48398.5, 47065.88, 52522.27, 49089.01]\n",
      "Mean:  49524.629\n",
      "Standard Deviation:  2012.161877665165\n"
     ]
    }
   ],
   "source": [
    "display_scores(m1_rmse_scores)"
   ]
  },
  {
   "cell_type": "code",
   "execution_count": 49,
   "id": "ebe7d538",
   "metadata": {
    "scrolled": true
   },
   "outputs": [
    {
     "data": {
      "text/plain": [
       "['model_1.pkl']"
      ]
     },
     "execution_count": 49,
     "metadata": {},
     "output_type": "execute_result"
    }
   ],
   "source": [
    "joblib.dump(m1, \"model_1.pkl\")"
   ]
  },
  {
   "cell_type": "markdown",
   "id": "18b33c5d",
   "metadata": {},
   "source": [
    "# Model 2"
   ]
  },
  {
   "cell_type": "markdown",
   "id": "62cdc4cc",
   "metadata": {},
   "source": [
    "- Model 2 will use the same dataset (housing_m1) as Model 1."
   ]
  },
  {
   "cell_type": "code",
   "execution_count": 51,
   "id": "4dec5241",
   "metadata": {},
   "outputs": [],
   "source": [
    "class LogTransformer(BaseEstimator, TransformerMixin):\n",
    "    def fit(self, X, y = None):\n",
    "        return self\n",
    "    def transform(self, X):\n",
    "        result = np.c_[X, np.log(X[:,[rooms_ix, bedrooms_ix, population_ix, households_ix, income_ix]])]\n",
    "        return result[:, [0, 1, 2, 8, 9, 10, 11, 12, 13, 14, 15]]"
   ]
  },
  {
   "cell_type": "code",
   "execution_count": 52,
   "id": "a0221b0b",
   "metadata": {},
   "outputs": [],
   "source": [
    "num_pipeline_m2 = Pipeline([\n",
    "    ('imputer', SimpleImputer(strategy = 'median')),\n",
    "    ('attribs_adder', CombinedAttributesAdder()),\n",
    "    ('log_transform', LogTransformer()),\n",
    "])"
   ]
  },
  {
   "cell_type": "code",
   "execution_count": 53,
   "id": "ae55d6c4",
   "metadata": {},
   "outputs": [],
   "source": [
    "housing_prepared_m2 = num_pipeline_m2.fit_transform(housing_m1)"
   ]
  },
  {
   "cell_type": "code",
   "execution_count": 54,
   "id": "e43f0bdd",
   "metadata": {},
   "outputs": [
    {
     "data": {
      "text/plain": [
       "RandomForestRegressor(random_state=42)"
      ]
     },
     "execution_count": 54,
     "metadata": {},
     "output_type": "execute_result"
    }
   ],
   "source": [
    "forest_reg_m2 = RandomForestRegressor(n_estimators = 100, random_state = 42)\n",
    "forest_reg_m2.fit(housing_prepared_m2, housing_labels)"
   ]
  },
  {
   "cell_type": "code",
   "execution_count": 55,
   "id": "a24ec623",
   "metadata": {},
   "outputs": [
    {
     "data": {
      "text/plain": [
       "18464.357419920947"
      ]
     },
     "execution_count": 55,
     "metadata": {},
     "output_type": "execute_result"
    }
   ],
   "source": [
    "housing_predictions_m2 = forest_reg_m2.predict(housing_prepared_m2)\n",
    "forest_rmse_m2 = mean_squared_error(housing_labels, housing_predictions_m2, squared = False)\n",
    "forest_rmse_m2"
   ]
  },
  {
   "cell_type": "code",
   "execution_count": 56,
   "id": "cee6e97d",
   "metadata": {},
   "outputs": [
    {
     "data": {
      "text/plain": [
       "array([48159.07314616, 49870.23763387, 51543.90038814, 50685.01535649,\n",
       "       48964.37134583, 52194.43343416, 47120.54479468, 48368.87280846,\n",
       "       52726.84487212, 49329.48272654])"
      ]
     },
     "execution_count": 56,
     "metadata": {},
     "output_type": "execute_result"
    }
   ],
   "source": [
    "#cross validation\n",
    "forest_scores_m2 = cross_val_score(forest_reg_m2, housing_prepared_m2, housing_labels, scoring = 'neg_mean_squared_error', \n",
    "                            cv = 10)\n",
    "forest_rmse_scores_m2 = np.sqrt(-forest_scores_m2)\n",
    "forest_rmse_scores_m2"
   ]
  },
  {
   "cell_type": "code",
   "execution_count": 57,
   "id": "f4b12e60",
   "metadata": {
    "scrolled": true
   },
   "outputs": [
    {
     "name": "stdout",
     "output_type": "stream",
     "text": [
      "Scores:  [48159.07, 49870.24, 51543.9, 50685.02, 48964.37, 52194.43, 47120.54, 48368.87, 52726.84, 49329.48]\n",
      "Mean:  49896.276\n",
      "Standard Deviation:  1757.166321024847\n"
     ]
    }
   ],
   "source": [
    "display_scores(forest_rmse_scores_m2)"
   ]
  },
  {
   "cell_type": "code",
   "execution_count": 58,
   "id": "b200d79c",
   "metadata": {},
   "outputs": [
    {
     "data": {
      "text/plain": [
       "GridSearchCV(cv=5, estimator=RandomForestRegressor(random_state=42),\n",
       "             param_grid=[{'max_features': [8, 10, 11],\n",
       "                          'n_estimators': [50, 70, 100]},\n",
       "                         {'bootstrap': [False], 'max_features': [8, 10, 11],\n",
       "                          'n_estimators': [30, 40]}],\n",
       "             return_train_score=True, scoring='neg_mean_squared_error')"
      ]
     },
     "execution_count": 58,
     "metadata": {},
     "output_type": "execute_result"
    }
   ],
   "source": [
    "param_grid = [\n",
    "    {'n_estimators':[50, 70, 100], 'max_features':[8, 10,11]},\n",
    "    {'bootstrap':[False], 'n_estimators':[30,40], 'max_features':[8,10,11]}\n",
    "]\n",
    "\n",
    "forest_reg = RandomForestRegressor(random_state = 42)\n",
    "\n",
    "grid_search = GridSearchCV(estimator = forest_reg_m2, param_grid = param_grid, cv = 5, scoring = 'neg_mean_squared_error',\n",
    "                           return_train_score = True)\n",
    "\n",
    "grid_search.fit(housing_prepared_m2, housing_labels)"
   ]
  },
  {
   "cell_type": "code",
   "execution_count": 59,
   "id": "24b11067",
   "metadata": {
    "scrolled": true
   },
   "outputs": [
    {
     "data": {
      "text/plain": [
       "RandomForestRegressor(max_features=10, random_state=42)"
      ]
     },
     "execution_count": 59,
     "metadata": {},
     "output_type": "execute_result"
    }
   ],
   "source": [
    "grid_search.best_estimator_"
   ]
  },
  {
   "cell_type": "code",
   "execution_count": 62,
   "id": "0820fff7",
   "metadata": {},
   "outputs": [
    {
     "data": {
      "text/plain": [
       "{'max_features': 10, 'n_estimators': 100}"
      ]
     },
     "execution_count": 62,
     "metadata": {},
     "output_type": "execute_result"
    }
   ],
   "source": [
    "grid_search.best_params_"
   ]
  },
  {
   "cell_type": "code",
   "execution_count": 60,
   "id": "168d1899",
   "metadata": {},
   "outputs": [
    {
     "name": "stdout",
     "output_type": "stream",
     "text": [
      "50730.14222313894 {'max_features': 8, 'n_estimators': 50}\n",
      "50677.767814910956 {'max_features': 8, 'n_estimators': 70}\n",
      "50498.48216750671 {'max_features': 8, 'n_estimators': 100}\n",
      "50548.53454391526 {'max_features': 10, 'n_estimators': 50}\n",
      "50407.08564981479 {'max_features': 10, 'n_estimators': 70}\n",
      "50350.17613803004 {'max_features': 10, 'n_estimators': 100}\n",
      "50707.595690584836 {'max_features': 11, 'n_estimators': 50}\n",
      "50445.66365978271 {'max_features': 11, 'n_estimators': 70}\n",
      "50403.49501139747 {'max_features': 11, 'n_estimators': 100}\n",
      "51546.366692260606 {'bootstrap': False, 'max_features': 8, 'n_estimators': 30}\n",
      "51392.16655257548 {'bootstrap': False, 'max_features': 8, 'n_estimators': 40}\n",
      "56724.198000299235 {'bootstrap': False, 'max_features': 10, 'n_estimators': 30}\n",
      "56589.17563436104 {'bootstrap': False, 'max_features': 10, 'n_estimators': 40}\n",
      "68290.29860166984 {'bootstrap': False, 'max_features': 11, 'n_estimators': 30}\n",
      "68246.38734385578 {'bootstrap': False, 'max_features': 11, 'n_estimators': 40}\n"
     ]
    }
   ],
   "source": [
    "cvres = grid_search.cv_results_\n",
    "for mean_score, params in zip(cvres['mean_test_score'], cvres['params']):\n",
    "    print(np.sqrt(-mean_score), params)"
   ]
  },
  {
   "cell_type": "code",
   "execution_count": 67,
   "id": "9bdd63ee",
   "metadata": {},
   "outputs": [
    {
     "data": {
      "text/plain": [
       "RandomizedSearchCV(cv=10, estimator=RandomForestRegressor(random_state=42),\n",
       "                   param_distributions={'max_features': <scipy.stats._distn_infrastructure.rv_frozen object at 0x0000017D80FC9250>,\n",
       "                                        'n_estimators': <scipy.stats._distn_infrastructure.rv_frozen object at 0x0000017D80E815B0>},\n",
       "                   random_state=42, scoring='neg_mean_squared_error')"
      ]
     },
     "execution_count": 67,
     "metadata": {},
     "output_type": "execute_result"
    }
   ],
   "source": [
    "from scipy.stats import randint\n",
    "\n",
    "param_distribs = {\n",
    "    'n_estimators': randint(low = 1, high = 200),\n",
    "    'max_features': randint(low = 1, high = 11)\n",
    "}\n",
    "\n",
    "\n",
    "rnd_search = RandomizedSearchCV(estimator = forest_reg_m2,\n",
    "                                param_distributions = param_distribs,\n",
    "                                n_iter = 10,\n",
    "                                cv = 10,\n",
    "                                scoring = 'neg_mean_squared_error',\n",
    "                                random_state = 42)\n",
    "\n",
    "rnd_search.fit(housing_prepared_m2, housing_labels)"
   ]
  },
  {
   "cell_type": "code",
   "execution_count": 70,
   "id": "94a5a243",
   "metadata": {},
   "outputs": [
    {
     "data": {
      "text/plain": [
       "{'max_features': 8, 'n_estimators': 189}"
      ]
     },
     "execution_count": 70,
     "metadata": {},
     "output_type": "execute_result"
    }
   ],
   "source": [
    "rnd_search.best_params_"
   ]
  },
  {
   "cell_type": "code",
   "execution_count": 71,
   "id": "3e0bf4bf",
   "metadata": {},
   "outputs": [
    {
     "name": "stdout",
     "output_type": "stream",
     "text": [
      "49754.12035720878 {'max_features': 7, 'n_estimators': 180}\n",
      "49684.33036520984 {'max_features': 8, 'n_estimators': 189}\n",
      "50704.889102897476 {'max_features': 5, 'n_estimators': 103}\n",
      "49934.53871079605 {'max_features': 10, 'n_estimators': 75}\n",
      "49797.49750233286 {'max_features': 8, 'n_estimators': 117}\n",
      "51309.95317199467 {'max_features': 4, 'n_estimators': 104}\n",
      "49782.978951284356 {'max_features': 8, 'n_estimators': 131}\n",
      "50353.6840252857 {'max_features': 6, 'n_estimators': 53}\n",
      "55127.010426953246 {'max_features': 2, 'n_estimators': 88}\n",
      "50127.68208116778 {'max_features': 6, 'n_estimators': 130}\n"
     ]
    }
   ],
   "source": [
    "rnd_cvres = rnd_search.cv_results_\n",
    "for mean_score, params in zip(rnd_cvres['mean_test_score'], rnd_cvres['params']):\n",
    "    print(np.sqrt(-mean_score), params)"
   ]
  },
  {
   "cell_type": "code",
   "execution_count": 76,
   "id": "5cae8e90",
   "metadata": {},
   "outputs": [
    {
     "data": {
      "text/plain": [
       "RandomForestRegressor(max_features=8, n_estimators=189, random_state=42)"
      ]
     },
     "execution_count": 76,
     "metadata": {},
     "output_type": "execute_result"
    }
   ],
   "source": [
    "m2 = rnd_search.best_estimator_\n",
    "m2"
   ]
  },
  {
   "cell_type": "code",
   "execution_count": 77,
   "id": "453f66ca",
   "metadata": {},
   "outputs": [
    {
     "data": {
      "text/plain": [
       "array([48348.80349514, 49545.22528717, 50543.66916096, 50170.1745234 ,\n",
       "       48591.07087516, 52165.29469632, 47440.56710356, 47898.17779489,\n",
       "       52794.04625188, 49060.34532991])"
      ]
     },
     "execution_count": 77,
     "metadata": {},
     "output_type": "execute_result"
    }
   ],
   "source": [
    "m2_scores = cross_val_score(m2, housing_prepared_m2, housing_labels, scoring = 'neg_mean_squared_error', \n",
    "                            cv = 10)\n",
    "m2_rmse_scores = np.sqrt(-m2_scores)\n",
    "m2_rmse_scores"
   ]
  },
  {
   "cell_type": "code",
   "execution_count": 78,
   "id": "0ff0c03d",
   "metadata": {},
   "outputs": [
    {
     "name": "stdout",
     "output_type": "stream",
     "text": [
      "Scores:  [48348.8, 49545.23, 50543.67, 50170.17, 48591.07, 52165.29, 47440.57, 47898.18, 52794.05, 49060.35]\n",
      "Mean:  49655.738\n",
      "Standard Deviation:  1685.354566124292\n"
     ]
    }
   ],
   "source": [
    "display_scores(m2_rmse_scores)"
   ]
  },
  {
   "cell_type": "code",
   "execution_count": 90,
   "id": "e68e25a4",
   "metadata": {},
   "outputs": [
    {
     "data": {
      "text/plain": [
       "['model_2.pkl']"
      ]
     },
     "execution_count": 90,
     "metadata": {},
     "output_type": "execute_result"
    }
   ],
   "source": [
    "joblib.dump(m2, \"model_2.pkl\")"
   ]
  },
  {
   "cell_type": "markdown",
   "id": "4251644a",
   "metadata": {},
   "source": [
    "# Model 3"
   ]
  },
  {
   "cell_type": "markdown",
   "id": "61191e57",
   "metadata": {},
   "source": [
    "- Model 2 will use the same dataset (housing_m1) as Model 1."
   ]
  },
  {
   "cell_type": "code",
   "execution_count": 113,
   "id": "476fab03",
   "metadata": {},
   "outputs": [],
   "source": [
    "num_pipeline_m3 = Pipeline([\n",
    "    ('imputer', SimpleImputer(strategy = 'median')),\n",
    "    ('attribs_adder', CombinedAttributesAdder()),\n",
    "    ('std_scaler', StandardScaler()),\n",
    "    ('polyfeatures', PolynomialFeatures())\n",
    "])"
   ]
  },
  {
   "cell_type": "code",
   "execution_count": 114,
   "id": "03b802f3",
   "metadata": {},
   "outputs": [],
   "source": [
    "housing_prepared_m3 = num_pipeline_m3.fit_transform(housing_m1)"
   ]
  },
  {
   "cell_type": "code",
   "execution_count": 115,
   "id": "4117bb29",
   "metadata": {},
   "outputs": [
    {
     "data": {
      "text/plain": [
       "RandomForestRegressor(random_state=42)"
      ]
     },
     "execution_count": 115,
     "metadata": {},
     "output_type": "execute_result"
    }
   ],
   "source": [
    "forest_reg_m3 = RandomForestRegressor(n_estimators = 100, random_state = 42)\n",
    "forest_reg_m3.fit(housing_prepared_m3, housing_labels)"
   ]
  },
  {
   "cell_type": "code",
   "execution_count": 116,
   "id": "3615633f",
   "metadata": {},
   "outputs": [
    {
     "data": {
      "text/plain": [
       "18577.050499344437"
      ]
     },
     "execution_count": 116,
     "metadata": {},
     "output_type": "execute_result"
    }
   ],
   "source": [
    "housing_predictions_m3 = forest_reg_m3.predict(housing_prepared_m3)\n",
    "forest_rmse_m3 = mean_squared_error(housing_labels, housing_predictions_m3, squared = False)\n",
    "forest_rmse_m3"
   ]
  },
  {
   "cell_type": "code",
   "execution_count": 117,
   "id": "3badaab9",
   "metadata": {},
   "outputs": [
    {
     "data": {
      "text/plain": [
       "GridSearchCV(cv=5, estimator=RandomForestRegressor(random_state=42),\n",
       "             param_grid=[{'max_features': [8, 10, 11],\n",
       "                          'n_estimators': [50, 70, 100]},\n",
       "                         {'bootstrap': [False], 'max_features': [8, 10, 11],\n",
       "                          'n_estimators': [30, 40]}],\n",
       "             return_train_score=True, scoring='neg_mean_squared_error')"
      ]
     },
     "execution_count": 117,
     "metadata": {},
     "output_type": "execute_result"
    }
   ],
   "source": [
    "param_grid = [\n",
    "    {'n_estimators':[50, 70, 100], 'max_features':[8, 10,11]},\n",
    "    {'bootstrap':[False], 'n_estimators':[30,40], 'max_features':[8,10,11]}\n",
    "]\n",
    "\n",
    "forest_reg = RandomForestRegressor(random_state = 42)\n",
    "\n",
    "grid_search = GridSearchCV(estimator = forest_reg_m3, param_grid = param_grid, cv = 5, scoring = 'neg_mean_squared_error',\n",
    "                           return_train_score = True)\n",
    "\n",
    "grid_search.fit(housing_prepared_m3, housing_labels)"
   ]
  },
  {
   "cell_type": "code",
   "execution_count": 118,
   "id": "20775f04",
   "metadata": {},
   "outputs": [
    {
     "data": {
      "text/plain": [
       "RandomForestRegressor(bootstrap=False, max_features=11, n_estimators=40,\n",
       "                      random_state=42)"
      ]
     },
     "execution_count": 118,
     "metadata": {},
     "output_type": "execute_result"
    }
   ],
   "source": [
    "grid_search.best_estimator_"
   ]
  },
  {
   "cell_type": "code",
   "execution_count": 119,
   "id": "5547b5e0",
   "metadata": {},
   "outputs": [
    {
     "name": "stdout",
     "output_type": "stream",
     "text": [
      "51062.18395029619 {'max_features': 8, 'n_estimators': 50}\n",
      "50965.54540983591 {'max_features': 8, 'n_estimators': 70}\n",
      "50990.61270130175 {'max_features': 8, 'n_estimators': 100}\n",
      "51136.23962260938 {'max_features': 10, 'n_estimators': 50}\n",
      "51070.807999221885 {'max_features': 10, 'n_estimators': 70}\n",
      "50748.982616812944 {'max_features': 10, 'n_estimators': 100}\n",
      "50908.29753226171 {'max_features': 11, 'n_estimators': 50}\n",
      "50841.0857028081 {'max_features': 11, 'n_estimators': 70}\n",
      "50611.586376825704 {'max_features': 11, 'n_estimators': 100}\n",
      "50696.97170780656 {'bootstrap': False, 'max_features': 8, 'n_estimators': 30}\n",
      "50398.36560215212 {'bootstrap': False, 'max_features': 8, 'n_estimators': 40}\n",
      "50477.75162816296 {'bootstrap': False, 'max_features': 10, 'n_estimators': 30}\n",
      "50159.72929064109 {'bootstrap': False, 'max_features': 10, 'n_estimators': 40}\n",
      "50261.68361535132 {'bootstrap': False, 'max_features': 11, 'n_estimators': 30}\n",
      "49956.16057335806 {'bootstrap': False, 'max_features': 11, 'n_estimators': 40}\n"
     ]
    }
   ],
   "source": [
    "cvres = grid_search.cv_results_\n",
    "for mean_score, params in zip(cvres['mean_test_score'], cvres['params']):\n",
    "    print(np.sqrt(-mean_score), params)"
   ]
  },
  {
   "cell_type": "code",
   "execution_count": null,
   "id": "f8ee3059",
   "metadata": {},
   "outputs": [],
   "source": []
  }
 ],
 "metadata": {
  "kernelspec": {
   "display_name": "Python 3",
   "language": "python",
   "name": "python3"
  },
  "language_info": {
   "codemirror_mode": {
    "name": "ipython",
    "version": 3
   },
   "file_extension": ".py",
   "mimetype": "text/x-python",
   "name": "python",
   "nbconvert_exporter": "python",
   "pygments_lexer": "ipython3",
   "version": "3.8.10"
  }
 },
 "nbformat": 4,
 "nbformat_minor": 5
}
